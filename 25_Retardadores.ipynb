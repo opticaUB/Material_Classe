{
 "cells": [
  {
   "cell_type": "markdown",
   "id": "cc7f8e2c",
   "metadata": {},
   "source": [
    "<div style=\"text-align: right\"><sub>This notebook is distributed under the <a href=\"https://creativecommons.org/licenses/by-sa/3.0/\" target=\"_blank\">Attribution-ShareAlike 3.0 International (CC BY-SA 3.0) license</a>.</sub></div>\n",
    "<h1>Curs d'Òptica en Python <span style=\"font-size:10px;\"> <i>Jupyter notbooks collection by <a href=\"https://webgrec.ub.edu/webpages/000004/cat/dmaluenda.ub.edu.html\" target=\"_blank\">David Maluenda</a></i></span></h1>\n",
    "\n",
    "<table class=\"tfo-notebook-buttons\" align=\"left\">\n",
    "  <td>\n",
    "    <a href=\"https://campusvirtual.ub.edu/my\" target=\"_blank\">\n",
    "      <img src=\"https://github.com/dmaluenda/hands_on_machine_learning/raw/master/resources/ub_logo-01.png\" width=\"130\"/>\n",
    "    </a>\n",
    "  </td>\n",
    "  <td>\n",
    "     &#160 &#160 &#160 &#160 &#160\n",
    "  </td>\n",
    "  <td>   <!-- gColab -->\n",
    "    <a href=\"https://colab.research.google.com/github/opticaUB/material_classe/blob/main/25_Retardadores.ipynb\" target=\"_blank\">\n",
    "      <img src=\"https://github.com/dmaluenda/hands_on_machine_learning/raw/master/resources/colab_logo_32px.png\" />\n",
    "      Run in Google Colab\n",
    "    </a>\n",
    "  </td>\n",
    "  <td>\n",
    "     &#160 &#160 &#160 &#160 &#160\n",
    "  </td>\n",
    "  <td>   <!-- github -->\n",
    "    <a href=\"https://github.com/opticaUB/material_classe/blob/main/25_Retardadores.ipynb\" target=\"_blank\">\n",
    "      <img src=\"https://github.com/dmaluenda/hands_on_machine_learning/raw/master/resources/github_logo_32px.png\" />\n",
    "      View source on GitHub\n",
    "    </a>\n",
    "  </td>\n",
    "  <td>\n",
    "      &#160 &#160 &#160 &#160 &#160\n",
    "  </td>\n",
    "  <td>   <!-- download -->\n",
    "    <a href=\"https://raw.githubusercontent.com/opticaUB/material_classe/main/25_Retardadores.ipynb\"  target=\"_blank\"\n",
    "          download=\"02_Training\">\n",
    "      <img src=\"https://github.com/dmaluenda/hands_on_machine_learning/raw/master/resources/download_logo_32px.png\" />\n",
    "      Download notebook\n",
    "      </a>\n",
    "  </td>\n",
    "</table>"
   ]
  },
  {
   "cell_type": "markdown",
   "id": "e46b1b2b",
   "metadata": {},
   "source": [
    "## 2. Òptica electromagnètica\n",
    "\n",
    "### 2.5 Medis anisotrops"
   ]
  },
  {
   "cell_type": "code",
   "execution_count": 1,
   "id": "a0bd22cc",
   "metadata": {},
   "outputs": [],
   "source": [
    "# %matplotlib widget\n",
    "import os\n",
    "\n",
    "import numpy as np\n",
    "import matplotlib.pyplot as plt\n",
    "from numpy import matlib\n",
    "from time import sleep\n",
    "\n",
    "from ipywidgets import interact, FloatSlider, IntSlider, widgets, Button, \\\n",
    "                       Output, HBox, VBox, Dropdown, Checkbox\n",
    "from IPython.display import display, clear_output"
   ]
  },
  {
   "cell_type": "markdown",
   "id": "7189d19b",
   "metadata": {},
   "source": [
    "Sigui el camp incident \n",
    "\n",
    "\\begin{equation}\n",
    "\\vec{E} = (E_x, E_y, 0)\n",
    "\\end{equation}\n",
    "\n",
    "amb les components $E_x\\,,\\,E_y \\in \\mathbb{C}$,\n",
    "l'el·lipse de polarització queda determinada per la relació d'amplituds $A_i=|E_i|$ i la diferencia de fases de les components.\n",
    "\n",
    "Es pot dibuixar l'el·lipse de polarització com la trajectòria que descriu el vector camp elèctric, \n",
    "mitjançant $N_s$ punts en un espai 2D, on les coordenades $x$ i $y$ d'aquests punts \n",
    "corresponen a la part real dels camps, i.e. $\\mathrm{real}(E_x)$ i $\\mathrm{real}(E_y)$, respectivament.\n",
    "Per obtenir els $N_s$ punts, tan sols cal multiplicar cada component per un factor $\\exp(i\\,t)$\n",
    "on $i$ és la unitat imaginaria i el conjunts de $N_s$ parametres adimensionals $t=\\left[\\,0\\,,\\,2\\pi\\,\\right)$\n",
    "representa el temps normalitzat amb el periode.\n",
    "\n",
    "Afegim també una fletxa des del centre fins el punt $xy$ inicial per represntar el vector camp elèctric.\n",
    "\n",
    "A més, fem un degradat en la transparència dels punts (alpha) per tal de donar una sensació de moviment."
   ]
  },
  {
   "cell_type": "code",
   "execution_count": 2,
   "id": "945f490a",
   "metadata": {},
   "outputs": [],
   "source": [
    "def ellipse_step(Ex, Ey, color, time, ax, Ex_pre=None, Ey_pre=None, alpha_F=0):\n",
    "    \n",
    "    samples = 15\n",
    "\n",
    "    x = [np.real(Ex * np.exp(1j * (t+time))) \n",
    "         for t in np.linspace(2*np.pi, 0.25*np.pi, samples)]\n",
    "    \n",
    "    y = [np.real(Ey * np.exp(1j * (t+time))) \n",
    "         for t in np.linspace(2*np.pi, 0.25*np.pi, samples)]\n",
    "    \n",
    "    if Ex_pre is not None and Ey_pre is not None:\n",
    "        # Dibuixem una el·lipse extra en cas que ens donin les dades\n",
    "        #  representa l'el·lipse que hi havia abans del polaritzador\n",
    "        \n",
    "        x_pre = [np.real(Ex_pre * np.exp(1j * (t+time))) \n",
    "                 for t in np.linspace(0, 2*np.pi, samples)]\n",
    "        \n",
    "        y_pre = [np.real(Ey_pre * np.exp(1j * (t+time))) \n",
    "                 for t in np.linspace(0, 2*np.pi, samples)]\n",
    "        \n",
    "        ax.scatter(x_pre[0], y_pre[0], color=[0, 0, 0])\n",
    "        ax.plot(x_pre, y_pre, 'k-', alpha=0.5)\n",
    "        ax.plot([x_pre[0], x[0]], [y_pre[0], y[0]], 'k--', alpha=0.5)\n",
    "        \n",
    "        alpha_F = alpha_F * np.pi / 180\n",
    "        ax.arrow(-1.15*np.cos(alpha_F), -1.15*np.sin(alpha_F), \n",
    "                 2.3*np.cos(alpha_F), 2.3*np.sin(alpha_F), ls='--',\n",
    "                 width=0.01, head_width=0.1, alpha=0.2)\n",
    "        ax.add_patch(plt.Circle((0, 0), 1.05, color='k', ls='--',\n",
    "                                fill=False, alpha=0.2))\n",
    "    \n",
    "    # Dibuixar els punts\n",
    "    ax.scatter(x, y, \n",
    "               color=color, \n",
    "               alpha=np.linspace(1, 0, samples))\n",
    "    \n",
    "    ax.arrow(0, 0, x[0], y[0],\n",
    "             length_includes_head=True,\n",
    "             width=0.01, head_width=0.1)\n",
    "    \n",
    "    ax.axis([-1.2, 1.2, -1.2, 1.2])\n",
    "    ax.set_aspect('equal', 'box')"
   ]
  },
  {
   "cell_type": "markdown",
   "id": "f41a149e",
   "metadata": {},
   "source": [
    "<hr>\n",
    "\n",
    "L'aplicació d'un polaritzador lineal amb eix de polarització $\\hat{e}_P = \\left(\\cos\\alpha\\,,\\, \\sin\\alpha \\,,\\, 0\\right)$ sobre un camp incident $\\vec{E}$ es modelitza de la seguent manera\n",
    "\n",
    "\\begin{equation}\n",
    "\\vec{E}_P = \\left( \\vec{E} \\cdot \\hat{e}_P \\right)\\, \\hat{e}_P = \\left( E_{x} \\cos\\alpha + E_{y} \\sin\\alpha \\right)\n",
    "\\begin{pmatrix}\n",
    "\\cos\\alpha \\\\\n",
    "\\sin\\alpha \\\\\n",
    "0\n",
    "\\end{pmatrix}\n",
    "\\end{equation}\n",
    "\n",
    "sent $\\vec{E}_P$ el camp resultant. Com que tant $\\hat{e}_P = \\left(\\cos\\alpha\\,,\\, \\sin\\alpha \\,,\\, 0\\right)$ és de modul constant i igual a la unitat, l'amplitud d'aquesta ona emergent del polaritzador és\n",
    "\n",
    "\\begin{equation}\n",
    "A_P = \\left( E_{x} \\cos\\alpha + E_{y} \\sin\\alpha \\right)\n",
    "\\end{equation}"
   ]
  },
  {
   "cell_type": "code",
   "execution_count": 3,
   "id": "cbe9ff2c",
   "metadata": {},
   "outputs": [],
   "source": [
    "def apply_polarizer(Ex0, Ey0, alpha_deg):\n",
    "    \"\"\" Applay a polarizer with angle <alpha_deg> in degrees\n",
    "        to a light field with complex amplitudes <Ex0> and <Ey0>\n",
    "        \n",
    "        return the light field after the polarizer as (Epx, Epy)\n",
    "    \"\"\"\n",
    "    alpha_rad = alpha_deg * np.pi / 180\n",
    "    \n",
    "    new_amp = Ex0 * np.cos(alpha_rad) + Ey0 * np.sin(alpha_rad)\n",
    "    \n",
    "    Epx = new_amp * np.cos(alpha_rad)\n",
    "    Epy = new_amp * np.sin(alpha_rad)\n",
    "    \n",
    "    return Epx, Epy"
   ]
  },
  {
   "cell_type": "markdown",
   "id": "160aff79",
   "metadata": {},
   "source": [
    "<hr>\n",
    "\n",
    "La diferència de camí òptic que introdueixen les làmines retardadors és\n",
    "\n",
    "\\begin{equation}\n",
    "\\Delta = N \\, g\\,(n_o - n_e) = N\\,g\\,\\Delta n\n",
    "\\end{equation}\n",
    "\n",
    "on $N$ i $g$ son el nombre i el gruix de les làmines i $n_o$ i $n_e$ els dos índexs principals de la làmina anisòtropa.\n",
    "\n",
    "Per tant, el desfasament entre les dues components del camp és\n",
    "\\begin{equation}\n",
    "\\delta = \\frac{2\\pi}{\\lambda} \\Delta\n",
    "\\end{equation}\n",
    "\n",
    "i el camp al sortir de la làmina és\n",
    "\n",
    "\\begin{equation}\n",
    "\\vec{E}_L = \n",
    "\\begin{pmatrix}\n",
    "A_x \\\\\n",
    "A_y e^{i \\delta} \\\\\n",
    "0\n",
    "\\end{pmatrix}\n",
    "e^{i\\psi}\n",
    "\\end{equation}"
   ]
  },
  {
   "cell_type": "code",
   "execution_count": 4,
   "id": "1eb9b309",
   "metadata": {},
   "outputs": [],
   "source": [
    "def apply_waveplate(Ex0, Ey0, Ncapes, gruix, delta_n, wavelen):\n",
    "\n",
    "        # diferencia de camí òptic entre les dues camponents\n",
    "        Delta = Ncapes * gruix * delta_n  # invariant a lambda\n",
    "\n",
    "        delta = 2 * np.pi / wavelen * Delta  # Desfasament induit -> Aquí entra la lambda\n",
    "        \n",
    "        ExL = Ex0\n",
    "        EyL = Ey0 * np.exp(1j * delta)\n",
    "        \n",
    "        return Ex0, EyL, delta\n",
    "    "
   ]
  },
  {
   "cell_type": "markdown",
   "id": "501650b4",
   "metadata": {},
   "source": [
    "<hr>\n",
    "\n",
    "La intensitat d'una ona modelada com a dues amplituds complexes és\n",
    "\n",
    "\\begin{equation}\n",
    "I = \\frac{cn}{8\\pi} \\lVert \\vec{E} \\rVert ^2 = \\frac{cn}{8\\pi} (E_x\\,E^{^*}_x + E_y\\,E^{^*}_y)\n",
    "\\end{equation}"
   ]
  },
  {
   "cell_type": "code",
   "execution_count": 5,
   "id": "eb51a8e8",
   "metadata": {},
   "outputs": [],
   "source": [
    "def get_intensity(Ex, Ey):\n",
    "    return abs(Ex*np.conj(Ex) + Ey*np.conj(Ey)) * 0.5"
   ]
  },
  {
   "cell_type": "markdown",
   "id": "eb1cff71",
   "metadata": {},
   "source": [
    "<hr>\n",
    "<hr>\n",
    "\n",
    "Fem una funció principal per integrar-ho tot plegat"
   ]
  },
  {
   "cell_type": "code",
   "execution_count": 21,
   "id": "1d3daf3e-49af-469d-88f4-757f30ee626d",
   "metadata": {
    "scrolled": true
   },
   "outputs": [],
   "source": [
    "def main(all_widgets):\n",
    "\n",
    "    gruix = 10e-6  # gruix del celo en SI\n",
    "    \n",
    "    do_pol_0 = all_widgets.children[0].children[0].value\n",
    "    alpha_0 = all_widgets.children[0].children[1].value\n",
    "    Ncapes = int(all_widgets.children[1].children[0].value)\n",
    "    delta_n = all_widgets.children[1].children[1].value\n",
    "    do_pol_F = all_widgets.children[2].children[0].value\n",
    "    alpha_F = all_widgets.children[2].children[1].value\n",
    "    \n",
    "    init_pol_str = f\"Líneal a {alpha_0:.1f}º\" if do_pol_0 else \"Llum Natural\"\n",
    "\n",
    "    wavelenR = 700e-9  # Red wavelenght in SI\n",
    "    wavelenG = 550e-9  # Green wavelenght in SI\n",
    "    wavelenB = 400e-9  # Blue wavelenght in SI\n",
    "    \n",
    "    colorR = [1, 0, 0]\n",
    "    colorG = [0, 1, 0]\n",
    "    colorB = [0, 0, 1]\n",
    "    colorK = [0, 0, 0]\n",
    "    \n",
    "    if not do_pol_0:\n",
    "        \"\"\" We deal with natural light...\n",
    "        \"\"\"\n",
    "        print(\"Not implemented yet...\")\n",
    "        return\n",
    "        plot_natural_ellipses(do_pol_F, alpha_F)\n",
    "        \n",
    "    else:\n",
    "    \n",
    "        # Apply the first polarizer to Natural light, modeled as circular... ask if not clear!\n",
    "        Ex0, Ey0 = apply_polarizer(1, 1j, alpha_0)\n",
    "        \n",
    "        ExR, EyR, phR = apply_waveplate(Ex0, Ey0, Ncapes, gruix, delta_n, wavelenR)\n",
    "        ExG, EyG, phG = apply_waveplate(Ex0, Ey0, Ncapes, gruix, delta_n, wavelenG)\n",
    "        ExB, EyB, phB = apply_waveplate(Ex0, Ey0, Ncapes, gruix, delta_n, wavelenB)\n",
    "\n",
    "        ExR_pre, EyR_pre = None, None\n",
    "        ExG_pre, EyG_pre = None, None\n",
    "        ExB_pre, EyB_pre = None, None\n",
    "        \n",
    "        if do_pol_F:\n",
    "            \n",
    "            ExR_pre, EyR_pre = ExR, EyR\n",
    "            ExG_pre, EyG_pre = ExG, EyG\n",
    "            ExB_pre, EyB_pre = ExB, EyB\n",
    "            \n",
    "            \n",
    "            ExR, EyR = apply_polarizer(ExR, EyR, alpha_F)\n",
    "            ExG, EyG = apply_polarizer(ExG, EyG, alpha_F)\n",
    "            ExB, EyB = apply_polarizer(ExB, EyB, alpha_F)\n",
    "\n",
    "        Rvalue = get_intensity(ExR, EyR)\n",
    "        Gvalue = get_intensity(ExG, EyG)\n",
    "        Bvalue = get_intensity(ExB, EyB)\n",
    "\n",
    "        time = 0\n",
    "        time_step = 15*np.pi/180\n",
    "\n",
    "        # Bucle de animación\n",
    "        while True:\n",
    "#         for _ in range(20):\n",
    "\n",
    "            clear_output(wait=True)\n",
    "\n",
    "            fig = plt.figure(figsize=(12, 6))\n",
    "            gs = fig.add_gridspec(2,4)\n",
    "            axA0 = fig.add_subplot(gs[0, 0])\n",
    "            axRL = fig.add_subplot(gs[0, 1])\n",
    "            axGL = fig.add_subplot(gs[1, 0])\n",
    "            axBL = fig.add_subplot(gs[1, 1])\n",
    "            axCF = fig.add_subplot(gs[:, 2:])\n",
    "            \n",
    "            axA0.set_title(f\"Pol. inicial: {init_pol_str}\")\n",
    "            axRL.set_title(f\"$\\delta_R = {(phR/np.pi):.2f} \\pi \"\n",
    "                           f\"= {(phR/np.pi)%(2):.2f} \\pi$\")\n",
    "            axGL.set_title(f\"$\\delta_G = {(phG/np.pi):.2f} \\pi = {(phG/np.pi)%(2):.2f} \\pi$\")\n",
    "            axBL.set_title(f\"$\\delta_B = {(phB/np.pi):.2f} \\pi = {(phB/np.pi)%(2):.2f} \\pi$\")\n",
    "            axCF.set_title(f\"$\\Delta={Ncapes * gruix * delta_n*1e9:.0f}\\,\\mu m$\"\n",
    "                           f\" : Composició RGB: [{Rvalue*100:.0f}, \"\n",
    "                           f\"{Gvalue*100:.0f}, {Bvalue*100:.0f}] % ; \")\n",
    "            \n",
    "            axA0.text(1, -1, \"Input\", ha='right', size='large', weight='bold')\n",
    "            axRL.text(1, -1, \"R\", ha='right', size='large', weight='bold')\n",
    "            axGL.text(1, -1, \"G\", ha='right', size='large', weight='bold')\n",
    "            axBL.text(1, -1, \"B\", ha='right', size='large', weight='bold')\n",
    "            axCF.text(-0.4, 0.4, \"Color Output\", ha='left', size='large', weight='bold')\n",
    "            \n",
    "            ellipse_step(Ex0, Ey0, colorK, time, axA0)\n",
    "            ellipse_step(ExR, EyR, colorR, time, axRL, ExR_pre, EyR_pre, alpha_F)\n",
    "            ellipse_step(ExG, EyG, colorG, time, axGL, ExG_pre, EyG_pre, alpha_F)\n",
    "            ellipse_step(ExB, EyB, colorB, time, axBL, ExB_pre, EyB_pre, alpha_F)\n",
    "            \n",
    "            axCF.imshow(np.array([Rvalue, Gvalue, Bvalue])[None,None,:])\n",
    "            axCF.axis('off')\n",
    "\n",
    "            plt.show()\n",
    "            time += time_step"
   ]
  },
  {
   "cell_type": "markdown",
   "id": "1114b33b",
   "metadata": {},
   "source": [
    "Generem uns widgets per tal de fer el programa més interactiu"
   ]
  },
  {
   "cell_type": "code",
   "execution_count": 22,
   "id": "343b0ba2-0ff2-4a3f-80fb-38ad75e98a86",
   "metadata": {
    "scrolled": false
   },
   "outputs": [
    {
     "data": {
      "application/vnd.jupyter.widget-view+json": {
       "model_id": "ebaac6368baa461198064fa419860e40",
       "version_major": 2,
       "version_minor": 0
      },
      "text/plain": [
       "HBox(children=(VBox(children=(Checkbox(value=True, description='Afegir el Polaritzador'), IntSlider(value=45, …"
      ]
     },
     "metadata": {},
     "output_type": "display_data"
    }
   ],
   "source": [
    "put_Pol_0 = Checkbox(value=True, description='Afegir el Polaritzador')\n",
    "alpha_0   = IntSlider(45, min=0, max=180, step=1, description=r\"$\\alpha_0$ (º)\", disabled=False)\n",
    "\n",
    "Ncapes  = Dropdown(options=[str(i) for i in range(10)], value='0', description='Capes:')\n",
    "delta_n = FloatSlider(.110, min=0.1, max=0.15, step=0.0001, description=r\"$\\Delta n$\", disabled=True,\n",
    "                      readout_format='.3f')\n",
    "\n",
    "put_Pol_F = Checkbox(value=False, description=\"Afegir l'Analitzador\")\n",
    "alpha_F   = IntSlider(0, min=0, max=180, step=1, description=r\"$\\alpha$ (º)\", disabled=True)\n",
    "\n",
    "pol0_box = VBox([put_Pol_0, alpha_0])\n",
    "lami_box = VBox([Ncapes,    delta_n])\n",
    "polF_box = VBox([put_Pol_F, alpha_F])\n",
    "\n",
    "all_widgets = HBox([pol0_box, lami_box, polF_box])\n",
    "\n",
    "display(all_widgets)\n",
    "\n",
    "def on_change_input(change):\n",
    "    widget = change.owner\n",
    "    if widget == put_Pol_0:\n",
    "        alpha_0.disabled = not change.new\n",
    "    elif widget == Ncapes:\n",
    "        delta_n.disabled = change.new == '0'\n",
    "    elif widget == put_Pol_F:\n",
    "        alpha_F.disabled = not change.new\n",
    "\n",
    "put_Pol_0.observe(on_change_input, names='value')\n",
    "Ncapes.observe(on_change_input, names='value')\n",
    "put_Pol_F.observe(on_change_input, names='value')\n",
    "alpha_0.observe(on_change_input, names='value')\n",
    "delta_n.observe(on_change_input, names='value')\n",
    "alpha_F.observe(on_change_input, names='value')"
   ]
  },
  {
   "cell_type": "markdown",
   "id": "feeade94",
   "metadata": {},
   "source": [
    "Fem correr la funció principal"
   ]
  },
  {
   "cell_type": "code",
   "execution_count": 30,
   "id": "a765ca1c",
   "metadata": {
    "scrolled": false
   },
   "outputs": [
    {
     "data": {
      "image/png": "[encoded data removed]",
      "text/plain": [
       "<Figure size 1200x600 with 5 Axes>"
      ]
     },
     "metadata": {},
     "output_type": "display_data"
    }
   ],
   "source": [
    "try:  # dins d'un try/catch per tal d'evitar missatges molestos quan aturem repetidament el programa.\n",
    "    main(all_widgets)\n",
    "except:\n",
    "    pass"
   ]
  }
 ],
 "metadata": {
  "kernelspec": {
   "display_name": "Python 3 (ipykernel)",
   "language": "python",
   "name": "python3"
  },
  "language_info": {
   "codemirror_mode": {
    "name": "ipython",
    "version": 3
   },
   "file_extension": ".py",
   "mimetype": "text/x-python",
   "name": "python",
   "nbconvert_exporter": "python",
   "pygments_lexer": "ipython3",
   "version": "3.9.18"
  },
  "toc": {
   "base_numbering": 1,
   "nav_menu": {},
   "number_sections": false,
   "sideBar": false,
   "skip_h1_title": true,
   "title_cell": "Table of Contents",
   "title_sidebar": "Contents",
   "toc_cell": false,
   "toc_position": {
    "height": "664.545px",
    "left": "10px",
    "top": "150px",
    "width": "165px"
   },
   "toc_section_display": false,
   "toc_window_display": false
  },
  "varInspector": {
   "cols": {
    "lenName": 16,
    "lenType": 16,
    "lenVar": 40
   },
   "kernels_config": {
    "python": {
     "delete_cmd_postfix": "",
     "delete_cmd_prefix": "del ",
     "library": "var_list.py",
     "varRefreshCmd": "print(var_dic_list())"
    },
    "r": {
     "delete_cmd_postfix": ") ",
     "delete_cmd_prefix": "rm(",
     "library": "var_list.r",
     "varRefreshCmd": "cat(var_dic_list()) "
    }
   },
   "types_to_exclude": [
    "module",
    "function",
    "builtin_function_or_method",
    "instance",
    "_Feature"
   ],
   "window_display": false
  }
 },
 "nbformat": 4,
 "nbformat_minor": 5
}
